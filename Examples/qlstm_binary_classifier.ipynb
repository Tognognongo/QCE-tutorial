{
 "cells": [
  {
   "cell_type": "markdown",
   "id": "e516edaf-e976-4b7f-8635-6642353d8fa3",
   "metadata": {},
   "source": [
    "## Quantum LSTM for classification tasks\n",
    "\n",
    "#### Let us start by training a Quantum Long Short-Term Memory model for the binary classification of IMDB movie reviews.\n",
    "\n",
    "#### We will work with a preprocessed dataset, in which every movie review have been shorten to its most relevant 5 words."
   ]
  },
  {
   "cell_type": "code",
   "execution_count": 1,
   "id": "17b4b40f-a879-4259-83e1-ca034a799bc1",
   "metadata": {},
   "outputs": [
    {
     "name": "stderr",
     "output_type": "stream",
     "text": [
      "/var/folders/x8/4nwfzz4d2tb_w79xcl4k8gxxn0kqjv/T/ipykernel_33206/3623456619.py:7: MatplotlibDeprecationWarning: The get_cmap function was deprecated in Matplotlib 3.7 and will be removed two minor releases later. Use ``matplotlib.colormaps[name]`` or ``matplotlib.colormaps.get_cmap(obj)`` instead.\n",
      "  cmap = get_cmap('tab20c')\n"
     ]
    }
   ],
   "source": [
    "import sys; sys.path.append('../src')\n",
    "import torch\n",
    "import pickle\n",
    "import matplotlib\n",
    "import matplotlib.pyplot as plt\n",
    "from matplotlib.cm import get_cmap\n",
    "cmap = get_cmap('tab20c')\n",
    "colors = cmap.colors"
   ]
  },
  {
   "cell_type": "code",
   "execution_count": 48,
   "id": "d330f235-1685-4fa2-be4f-835456b6680d",
   "metadata": {},
   "outputs": [],
   "source": [
    "data = '../Datasets/imdb_top5_vocab20.txt'\n",
    "data = '../../../../Downloads/tcga_top5.txt'\n",
    "\n",
    "with open(data, 'r') as file: reviews = file.readlines()\n",
    "\n",
    "classes = list(set(list(int(review[:2]) for review in reviews)))\n",
    "class_dist = {c: 0 for c in classes}\n",
    "for review in reviews: class_dist[int(review[:2])] += 1\n",
    "train_classes = [0,1,2]"
   ]
  },
  {
   "cell_type": "markdown",
   "id": "9c45db77-cbae-4bf4-9a31-ab6b83cb149a",
   "metadata": {},
   "source": [
    "#### The first character of each datapoint is a label. Good reviews are assigned label $1$, while bad ones are assigned label $0$.\n",
    "#### For this tutorial, we will generate a balanced training set. "
   ]
  },
  {
   "cell_type": "code",
   "execution_count": 49,
   "id": "c11a2e48-8a90-4893-a6b2-3a69c9173af7",
   "metadata": {},
   "outputs": [],
   "source": [
    "from qlstm_aux import subset_idxs_dist\n",
    "\n",
    "train_size = 60\n",
    "balanced = True\n",
    "randomized = True\n",
    "\n",
    "train_idxs, train_dist = subset_idxs_dist(reviews, train_classes, train_size, balanced, randomized)"
   ]
  },
  {
   "cell_type": "code",
   "execution_count": 50,
   "id": "ca38d7d0-2a85-4953-b9c2-3bb72ed5ef37",
   "metadata": {},
   "outputs": [
    {
     "name": "stdout",
     "output_type": "stream",
     "text": [
      "[6147, 6219, 461, 880, 1003, 4388, 1911, 3642, 3269, 1891, 2876, 4300, 4934, 1014, 3801, 4014, 3520, 853, 1737, 5394, 4758, 5397, 1253, 655, 2723, 2695, 5568, 1927, 473, 2030, 3110, 5428, 5014, 1514, 4639, 5479, 1214, 4366, 3321, 4418, 5435, 2274, 2816, 4050, 3534, 3242, 872, 3357, 700, 2284, 4039, 1257, 5459, 1992, 565, 6095, 5793, 4853, 5466, 2472]\n",
      "{0: 20, 1: 20, 2: 20}\n"
     ]
    }
   ],
   "source": [
    "print(train_idxs)\n",
    "print(train_dist)"
   ]
  },
  {
   "cell_type": "code",
   "execution_count": 51,
   "id": "d38255e2-461e-416b-b97b-df58d945a53a",
   "metadata": {},
   "outputs": [],
   "source": [
    "from qlstm_aux import words_to_idxs\n",
    "words_to_idxs = words_to_idxs(reviews, train_idxs)"
   ]
  },
  {
   "cell_type": "code",
   "execution_count": 52,
   "id": "be3a2842-fb62-4eab-aacd-2b3007dc03c8",
   "metadata": {},
   "outputs": [
    {
     "name": "stdout",
     "output_type": "stream",
     "text": [
      "82\n",
      "{'mm': 0, 'margins': 1, 'section': 2, 'present': 3, 'attached': 4, 'ii': 5, 'uuid': 6, 'high': 7, 'positive': 8, 'cells': 9, 'biopsy': 10, 'invasive': 11, 'site': 12, 'formalin': 13, 'entirely': 14, 'negative': 15, 'fresh': 16, 'frozen': 17, 'uninvolved': 18, 'date': 19, 'page': 20, 'iii': 21, 'number': 22, 'stage': 23, 'areas': 24, 'parenchyma': 25, 'portion': 26, 'sectioned': 27, 'metastatic': 28, 'metastasis': 29, 'reviewed': 30, 'pathologic': 31, 'yellow': 32, 'measures': 33, 'labeled': 34, 'posterior': 35, 'additional': 36, 'anterior': 37, 'excision': 38, 'blue': 39, 'performed': 40, 'patient': 41, 'examination': 42, 'area': 43, 'description': 44, 'shows': 45, 'resection': 46, 'cell': 47, 'mass': 48, 'consists': 49, 'size': 50, 'representative': 51, 'white': 52, 'cut': 53, 'vascular': 54, 'differentiated': 55, 'adipose': 56, 'small': 57, 'examined': 58, 'diameter': 59, 'clinical': 60, 'surface': 61, 'soft': 62, 'focal': 63, 'free': 64, 'identified': 65, 'total': 66, 'red': 67, 'microscopic': 68, 'involved': 69, 'final': 70, 'multiple': 71, 'pink': 72, 'adenocarcinoma': 73, 'unremarkable': 74, 'extension': 75, 'inked': 76, 'greatest': 77, 'black': 78, 'gross': 79, 'dimension': 80, 'findings': 81}\n"
     ]
    }
   ],
   "source": [
    "print(len(words_to_idxs))\n",
    "print(words_to_idxs)"
   ]
  },
  {
   "cell_type": "markdown",
   "id": "759eb229-61d9-4917-aecb-a98363db642e",
   "metadata": {},
   "source": [
    "#### Next, we define the model we want to train."
   ]
  },
  {
   "cell_type": "code",
   "execution_count": 53,
   "id": "d4294e02-9227-49a4-8b18-4f646cb5e49a",
   "metadata": {},
   "outputs": [],
   "source": [
    "embedding_dim = 8\n",
    "hidden_dim = 6\n",
    "num_words = len(words_to_idxs)\n",
    "num_labels = len(train_classes)\n",
    "num_qubits = 2\n",
    "num_qlayers = 1\n",
    "backend = 'default.qubit'"
   ]
  },
  {
   "cell_type": "code",
   "execution_count": 54,
   "id": "fc644214-71b4-40ec-8958-881f1dfcee17",
   "metadata": {},
   "outputs": [
    {
     "name": "stdout",
     "output_type": "stream",
     "text": [
      "{'weights': (1, 2)}\n"
     ]
    }
   ],
   "source": [
    "from qlstm_models import QLSTMClassifier\n",
    "\n",
    "model = QLSTMClassifier(embedding_dim,\n",
    "                        hidden_dim,\n",
    "                        vocab_size=num_words,\n",
    "                        tagset_size=num_labels,\n",
    "                        n_qubits=num_qubits,\n",
    "                        n_qlayers=num_qlayers,\n",
    "                        ising=True,\n",
    "                        probs=False,\n",
    "                        backend=backend)"
   ]
  },
  {
   "cell_type": "code",
   "execution_count": 55,
   "id": "abf3cce7-b3b5-4e72-9e2c-937ee19592fb",
   "metadata": {},
   "outputs": [],
   "source": [
    "import torch\n",
    "import torch.nn as nn\n",
    "import torch.nn.functional as F\n",
    "import torch.optim as optim\n",
    "\n",
    "weights = torch.tensor(list(pow(train_size/len(train_classes)/train_dist[key],3) for key in train_dist.keys()), dtype=torch.float)\n",
    "learning_rate = 0.001\n",
    "\n",
    "loss_function = nn.NLLLoss(weight=weights)\n",
    "optimizer = optim.Adam(model.parameters(), lr=learning_rate)"
   ]
  },
  {
   "cell_type": "code",
   "execution_count": 56,
   "id": "b564dd26-f5cc-4506-b8c7-2ad3f578064f",
   "metadata": {},
   "outputs": [],
   "source": [
    "num_epochs = 50\n",
    "training = {'loss': [], 'acc': []}"
   ]
  },
  {
   "cell_type": "code",
   "execution_count": null,
   "id": "9a85dd14-7a84-46db-b7b3-00a7f2cfeead",
   "metadata": {},
   "outputs": [
    {
     "name": "stdout",
     "output_type": "stream",
     "text": [
      "Loss: -0.333\tAccuracy: 0.5555999875068665\n",
      "Loss: -0.3815\tAccuracy: 0.6777999997138977\n",
      "Loss: -0.5242\tAccuracy: 0.7444000244140625\n",
      "Loss: -0.585\tAccuracy: 0.7444000244140625\n",
      "Loss: -0.6076\tAccuracy: 0.7555999755859375\n"
     ]
    }
   ],
   "source": [
    "from numpy import mean, around\n",
    "from qlstm_aux import prepare_sequence\n",
    "\n",
    "for epoch in range(num_epochs):\n",
    "\n",
    "    rank_losses = []\n",
    "    rank_preds = []\n",
    "    rank_targets = []\n",
    "    accuracy = torch.tensor([0], dtype=torch.float32)\n",
    "    \n",
    "    if epoch == num_epochs-1: rank_confusion = {c: [] for c in train_classes}\n",
    "\n",
    "    for k, i in enumerate(train_idxs):\n",
    "        \n",
    "        model.zero_grad(set_to_none=False)\n",
    "        \n",
    "        if i != -1:\n",
    "            sentence = reviews[i][2:-1].split()\n",
    "            sentence_in = prepare_sequence(sentence, words_to_idxs)\n",
    "            label = list(0 for j in range(len(train_classes)))\n",
    "            for j, key in enumerate(train_dist.keys()):\n",
    "                if int(reviews[i][:2]) == key: label[j] += 1\n",
    "            label = torch.tensor(label, dtype=torch.long)\n",
    "            rank_targets.append(label)\n",
    "\n",
    "            scores = model(sentence_in)\n",
    "            loss = loss_function(scores, torch.tensor([label.argmax(dim=-1)]))\n",
    "            loss.backward()\n",
    "            rank_losses.append(float(loss))\n",
    "            pred = list(0 for j in range(len(train_classes)))\n",
    "            pred[scores.argmax().item()] += 1\n",
    "            pred = torch.tensor(pred, dtype=torch.long)\n",
    "            rank_preds.append(pred)\n",
    "\n",
    "        else: loss = torch.tensor([-100.], dtype=torch.float32)\n",
    "\n",
    "        optimizer.step()\n",
    "\n",
    "    avg_loss = mean(rank_losses)\n",
    "    training['loss'].append(avg_loss)\n",
    "\n",
    "    preds = torch.cat(rank_preds)\n",
    "    targets = torch.cat(rank_targets)\n",
    "    corrects = (preds == targets)\n",
    "    accuracy = corrects.sum().float() / float(targets.size(0))\n",
    "    training['acc'].append(accuracy)\n",
    "\n",
    "    if epoch%10==0: print('Loss: {}\\tAccuracy: {}'.format(around(avg_loss,4), around(accuracy,4)))"
   ]
  },
  {
   "cell_type": "code",
   "execution_count": null,
   "id": "d1c87662-8368-44de-a69e-f642949d77f5",
   "metadata": {},
   "outputs": [],
   "source": [
    "fig, axs = plt.subplots(nrows=2, sharex=True, figsize=(3.375*3/2, 3.375*4/3), dpi=200)\n",
    "for ax in axs.ravel():\n",
    "    ax.tick_params(labelsize='xx-small')\n",
    "axs[0].set_ylabel('Loss', fontsize='x-small')\n",
    "axs[1].set_ylabel('Accuracy', fontsize='x-small')\n",
    "axs[1].set_xlabel('Epoch', fontsize='x-small')\n",
    "axs[0].plot(training['loss'], lw=1, color=colors[1], label='LSTM');\n",
    "axs[1].plot(training['acc'], lw=1, color=colors[1], label='LSTM');"
   ]
  },
  {
   "cell_type": "code",
   "execution_count": 44,
   "id": "9f0b2666-75b2-4454-9b0b-e9c7ec152bbe",
   "metadata": {},
   "outputs": [
    {
     "name": "stderr",
     "output_type": "stream",
     "text": [
      "/var/folders/x8/4nwfzz4d2tb_w79xcl4k8gxxn0kqjv/T/ipykernel_31960/924722365.py:4: MatplotlibDeprecationWarning: The get_cmap function was deprecated in Matplotlib 3.7 and will be removed two minor releases later. Use ``matplotlib.colormaps[name]`` or ``matplotlib.colormaps.get_cmap(obj)`` instead.\n",
      "  cmap = get_cmap('tab20c')\n"
     ]
    }
   ],
   "source": [
    "import matplotlib\n",
    "import matplotlib.pyplot as plt\n",
    "from matplotlib.cm import get_cmap\n",
    "cmap = get_cmap('tab20c')\n",
    "colors = cmap.colors"
   ]
  },
  {
   "cell_type": "code",
   "execution_count": 45,
   "id": "4d0294d5-db9a-40c7-9a03-3b96d5d19278",
   "metadata": {},
   "outputs": [
    {
     "data": {
      "image/png": "[encoded data removed]",
      "text/plain": [
       "<Figure size 1012.5x900 with 2 Axes>"
      ]
     },
     "metadata": {},
     "output_type": "display_data"
    }
   ],
   "source": [
    "fig, axs = plt.subplots(nrows=2, sharex=True, figsize=(3.375*3/2, 3.375*4/3), dpi=200)\n",
    "for ax in axs.ravel():\n",
    "    ax.tick_params(labelsize='xx-small')\n",
    "axs[0].set_ylabel('Loss', fontsize='x-small')\n",
    "axs[1].set_ylabel('Accuracy', fontsize='x-small')\n",
    "axs[1].set_xlabel('Epoch', fontsize='x-small')\n",
    "axs[0].plot(training['loss'], lw=1, color=colors[1], label='QLSTM');\n",
    "axs[1].plot(training['acc'], lw=1, color=colors[1], label='QLSTM');"
   ]
  },
  {
   "cell_type": "code",
   "execution_count": null,
   "id": "46bdeca6-70ac-44de-b67e-4b7938e687be",
   "metadata": {},
   "outputs": [],
   "source": []
  }
 ],
 "metadata": {
  "kernelspec": {
   "display_name": "qnlp-tut",
   "language": "python",
   "name": "qnlp-tut"
  },
  "language_info": {
   "codemirror_mode": {
    "name": "ipython",
    "version": 3
   },
   "file_extension": ".py",
   "mimetype": "text/x-python",
   "name": "python",
   "nbconvert_exporter": "python",
   "pygments_lexer": "ipython3",
   "version": "3.9.17"
  }
 },
 "nbformat": 4,
 "nbformat_minor": 5
}
