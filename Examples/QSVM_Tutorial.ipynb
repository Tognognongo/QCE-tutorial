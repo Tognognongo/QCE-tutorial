{
 "cells": [
  {
   "cell_type": "markdown",
   "id": "0431b2f1",
   "metadata": {},
   "source": [
    "# Adiabatic Quantum Support Vector Machiens"
   ]
  },
  {
   "cell_type": "markdown",
   "id": "1fa64606",
   "metadata": {},
   "source": [
    "# Install Necessary libaries\n",
    "**Please install any missing libraries not found locally**.\n",
    "\n",
    "!pip install numpy <br>\n",
    "!pip install matplotlib <br>\n",
    "!pip install sklearn <br>\n",
    "!pip install time <br>\n",
    "!pip install dwave-ocean-sdk <br>\n",
    "!pip install dwave-neal <br>\n",
    "!pip install pyqubo <br>\n",
    "!pip install ast <br>"
   ]
  },
  {
   "cell_type": "code",
   "execution_count": null,
   "id": "028c4d06",
   "metadata": {},
   "outputs": [],
   "source": [
    "!pip install numpy \n",
    "!pip install matplotlib \n",
    "!pip install sklearn \n",
    "!pip install time \n",
    "!pip install dwave-ocean-sdk \n",
    "!pip install dwave-neal \n",
    "!pip install pyqubo \n",
    "!pip install ast "
   ]
  },
  {
   "cell_type": "code",
   "execution_count": 19,
   "id": "216bcfe3",
   "metadata": {},
   "outputs": [],
   "source": [
    "import numpy as np\n",
    "import matplotlib.pyplot as plt\n",
    "from sklearn import svm\n",
    "import time\n",
    "import pandas as pd\n",
    "from dwave.system import DWaveSampler, EmbeddingComposite\n",
    "from pyqubo import Array\n",
    "import ast\n",
    "import neal"
   ]
  },
  {
   "cell_type": "markdown",
   "id": "1be83e52",
   "metadata": {},
   "source": [
    "**The below method generates synthetic data points and class labels using specified parameters, allowing for predictable hyperplanes when trained with an SVM**."
   ]
  },
  {
   "cell_type": "markdown",
   "id": "4d0155e8",
   "metadata": {},
   "source": [
    "**EXPLANATION**: In the below method, we implement a function that generates data points and their corresponding class labels based on the following specified parameters: number of data points, number of features, SVM weights, and SVM bias. \n",
    "We generate each data point by sampling the feature values uniformly at random in the range [-1, 1]. We then classify these points based on a linear decision boundary. \n",
    "This process iteratively generates the data till we have the desired number of data points. \n",
    "This approach allows us to generate synthetic data sets that, when trained with an SVM, result in predictable hyperplanes."
   ]
  },
  {
   "cell_type": "code",
   "execution_count": 6,
   "id": "fcf2133e",
   "metadata": {},
   "outputs": [],
   "source": [
    "def generate_points2(num_points, weight, b, feat):\n",
    "    points = []\n",
    "    y = []\n",
    "    while len(points)  < num_points/2:\n",
    "        x = np.random.uniform(-1, 1, feat)\n",
    "        if 0.7 >= np.inner(weight, x) + b:\n",
    "            points.append(x.tolist())\n",
    "            y.append(1)\n",
    "    while len(points) < num_points:\n",
    "        x = np.random.uniform(-1, 1, feat)\n",
    "        if 1.3 < np.inner(weight, x) + b:\n",
    "            points.append(x.tolist())\n",
    "            y.append(-1)\n",
    "    return points, y"
   ]
  },
  {
   "cell_type": "markdown",
   "id": "bd0666e2",
   "metadata": {},
   "source": [
    "**Setup Variables for the classical/quantum SVM:**\n",
    "\n",
    "- Number of Features.(feat)\n",
    "- Conditions For Points Generated. (o_weight, o_bias)\n",
    "- Conditions for classical SVM. (C - Regularization parameter)\n",
    "- The number of trained and tested points. (nump, N)\n",
    "- Noise. (Nois)\n",
    "- Number of Times Annealed. (n_reads)"
   ]
  },
  {
   "cell_type": "code",
   "execution_count": 7,
   "id": "764ae9f2",
   "metadata": {},
   "outputs": [],
   "source": [
    "feat = 2\n",
    "o_weight = np.tile(np.array([0.5, -0.5]), feat // 2 + 1)[:feat]\n",
    "o_bias = [1]\n",
    "C = 1 \n",
    "nump = 20\n",
    "N = 20\n",
    "Nois = 0\n",
    "n_reads = 10"
   ]
  },
  {
   "cell_type": "markdown",
   "id": "dc264ac4",
   "metadata": {},
   "source": [
    "**Generate points for SVM training and testing.**\n",
    "\n",
    "- a = trained points\n",
    "- b = trained labels\n",
    "- c = tested points\n",
    "- d = tested labels\n",
    "\n",
    "Running the cell below plots the training points"
   ]
  },
  {
   "cell_type": "code",
   "execution_count": 8,
   "id": "a9353e8a",
   "metadata": {},
   "outputs": [
    {
     "data": {
      "text/plain": [
       "<matplotlib.collections.PathCollection at 0x1e6175727c0>"
      ]
     },
     "execution_count": 8,
     "metadata": {},
     "output_type": "execute_result"
    },
    {
     "data": {
      "image/png": "[encoded data removed]",
      "text/plain": [
       "<Figure size 640x480 with 1 Axes>"
      ]
     },
     "metadata": {},
     "output_type": "display_data"
    }
   ],
   "source": [
    "a,b = generate_points2(nump, o_weight, o_bias, feat)\n",
    "a = np.array(a)  \n",
    "b = np.array(b)\n",
    "min_vals = np.min(a, axis=0)\n",
    "max_vals = np.max(a, axis=0)\n",
    "a = (a - min_vals) / (max_vals - min_vals)\n",
    " \n",
    "c,d = generate_points2(N, o_weight, o_bias, feat)\n",
    "c = np.array(c)  \n",
    "d = np.array(d)\n",
    "min_vals = np.min(c, axis=0)\n",
    "max_vals = np.max(c, axis=0)\n",
    "c = (c - min_vals) / (max_vals - min_vals)\n",
    "\n",
    "plt.scatter(a[:, 0], a[:, 1], c=b, s=30, cmap=plt.cm.Paired)"
   ]
  },
  {
   "cell_type": "markdown",
   "id": "7ab794ba",
   "metadata": {},
   "source": [
    "**Functions:** \n",
    "- Classical SVM. (classical)\n",
    "  --\n",
    "  - This function, named classical, performs a linear Support Vector Machine (SVM) classification on input data a and target labels b. It uses Scikit-learn's SVM implementation with the \"linear\" kernel and a regularization parameter C set to 1. It measures the execution time of the training process, plots the decision boundary of the SVM on a 2D plane, and returns the SVM's coefficients, intercept, number of support vectors, execution time, and indices of the support vectors."
   ]
  },
  {
   "cell_type": "code",
   "execution_count": 20,
   "id": "4e2bc22e",
   "metadata": {},
   "outputs": [],
   "source": [
    "def classical(a,b):\n",
    "    clf = svm.SVC(kernel=\"linear\", C=1)\n",
    "    start_time = time.perf_counter()\n",
    "    clf.fit(a, b)\n",
    "    end_time = time.perf_counter()\n",
    "    execution_time = end_time - start_time\n",
    "    x = np.linspace(0,1,100)\n",
    "    y = ((-clf.coef_[0][0]*x-clf.intercept_[0])/clf.coef_[0][1])\n",
    "    plt.plot(x, y, 'r+',label = 'Scikit-learn SVM function')\n",
    "    return clf.coef_, clf.intercept_, len(clf.support_ ), execution_time, clf.support_,clf"
   ]
  },
  {
   "cell_type": "markdown",
   "id": "f8c80c8a",
   "metadata": {},
   "source": [
    "- Quantum SVM. (dwave_annealing, go_fast)\n",
    "  --\n",
    "  - go_fast(p, X, y) computes the quadratic programming problem that arises in the context of a Support Vector Machine (SVM). Given a set of data points X and their corresponding labels y, it constructs a quadratic objective function A and a linear term b in the SVM formulation. The function takes the precision vector p as an input and computes A and b using the data X and y. \n",
    "  - dwave_annealing(a, b) performs the D-Wave quantum annealing-based SVM training. It calls the go_fast function with a predefined precision vector p, and then it sets up the D-Wave annealing problem using the results from go_fast. It embeds the problem into the D-Wave architecture, samples from it, and then decodes the results to obtain the solution. It returns the learned SVM model's weight vector weight, the bias term bias, the number of support vectors numSVs, and various timing information related to the D-Wave quantum annealing process.\n",
    "  \n",
    "- If you have a D-WAVE account that have access to an annealer please fill in your API token \n",
    "  --"
   ]
  },
  {
   "cell_type": "code",
   "execution_count": 28,
   "id": "4fcd453a",
   "metadata": {},
   "outputs": [],
   "source": [
    "def dwave_annealing(a,b):\n",
    "    p = np.array([0.25,0.5,1])\n",
    "    \n",
    "    start_time = time.perf_counter()\n",
    "    f,g = go_fast(p,a,b) \n",
    "    s1 = Array.create('b', shape=nump*3, vartype='BINARY')\n",
    "    H = Array.dot (Array.dot (s1.T,f),s1 ) +Array.dot(s1.T,Array(g))\n",
    "    model = H.compile()\n",
    "    bqm = model.to_bqm()\n",
    "    \n",
    "    end_time = time.perf_counter()\n",
    "    preprocessing_time = end_time - start_time\n",
    "   \n",
    "    start_time = time.perf_counter()\n",
    "    sampler = EmbeddingComposite(DWaveSampler(bqm, token='COPY-YOUR-API-TOKEN-HERE'))\n",
    "    end_time = time.perf_counter()\n",
    "    embedding_time = end_time - start_time\n",
    "    \n",
    "    start_time = time.perf_counter()\n",
    "    sampleset = sampler.sample(bqm, num_reads=n_reads, return_embedding=True)\n",
    "    end_time = time.perf_counter()\n",
    "\n",
    "    \n",
    "    # Processing the experiment data retrieved\n",
    "    data_string = str(sampleset.info['timing'])\n",
    "    data_dict = ast.literal_eval(data_string)\n",
    "    qpu_access_time = float(data_dict['qpu_access_time']/1000000000)\n",
    "    qpu_programming_time = float(data_dict['qpu_programming_time']/1000000000)\n",
    "    network_time = end_time - start_time - qpu_access_time - qpu_programming_time\n",
    "    \n",
    "    decoded_samples = model.decode_sampleset(sampleset)\n",
    "    best_sample = min(decoded_samples, key=lambda x: x.energy)\n",
    "    answer = np.array(list(best_sample.sample.values()))\n",
    "    P = np.kron(np.eye(a.shape[0]), p)\n",
    "    lmda = np.matmul(P, answer)    \n",
    "   \n",
    "    weight = np.zeros(feat)\n",
    "    bias = 0\n",
    "    support = np.where(lmda != 0)[0].tolist()\n",
    "    numSVs = len(support)\n",
    "    if len(support) != 0 :\n",
    "        weight = np.sum(lmda[support][:, None] * a[support] * b[support][:, None],axis=0)\n",
    "        bias  = np.sum(b[support] - np.inner(weight.T,a[support]) )/len(support)\n",
    "        x = np.linspace(0,1,100)\n",
    "        y = (-(weight[0])*x-bias)/weight[1]\n",
    "        plt.plot(x, y, 'r', label = 'D-Wave SVM function')\n",
    "    return weight,bias, numSVs, preprocessing_time, embedding_time , support, sampleset, sampleset.info['embedding_context'], [sampleset.info['timing']] ,network_time,qpu_access_time\n"
   ]
  },
  {
   "cell_type": "markdown",
   "id": "986ea1da",
   "metadata": {},
   "source": [
    "- Simulated Annealing SVM. (simulated_annealing)\n",
    "  --\n",
    "  - simulated_annealing(a, b) performs a simulated quantum annealing-based SVM training. It calls the go_fast function with a predefined precision vector p, and then it sets up the annealing problem using the results from go_fast. It samples the problem then decodes the results to obtain the solution. It returns the learned SVM model's weight vector weight, the bias term bias, the number of support vectors numSVs, and various timing information related to the simulated annealing process."
   ]
  },
  {
   "cell_type": "code",
   "execution_count": 26,
   "id": "8503d85d",
   "metadata": {},
   "outputs": [],
   "source": [
    "def simulated_annealing(a,b):\n",
    "    p = np.array([0.25,0.5,1])\n",
    "    start_time = time.perf_counter()\n",
    "    f,g = go_fast(p,a,b) \n",
    "    N = a.shape[0] \n",
    "    P = np.kron(np.eye(N), p)\n",
    "    s1 = Array.create('b', shape=nump*3, vartype='BINARY')\n",
    "    H = Array.dot (Array.dot (s1.T,f),s1 ) +Array.dot(s1.T,Array(g))\n",
    "    model = H.compile()\n",
    "    bqm = model.to_bqm()\n",
    "    end_time = time.perf_counter()\n",
    "    preprocessing_time = end_time - start_time\n",
    "    \n",
    "    start_time = time.perf_counter()\n",
    "    sa = neal.SimulatedAnnealingSampler()\n",
    "    sampleset = sa.sample(bqm, num_reads=n_reads)\n",
    "    end_time = time.perf_counter()\n",
    "    execution_time = end_time - start_time\n",
    "    \n",
    "    decoded_samples = model.decode_sampleset(sampleset)\n",
    "    best_sample = min(decoded_samples, key=lambda x: x.energy)\n",
    "    answer = np.array(list(best_sample.sample.values()))\n",
    "    P = np.kron(np.eye(a.shape[0]), p)\n",
    "    lmda = np.matmul(P, answer)\n",
    "    \n",
    "    weight = np.zeros(feat)\n",
    "    bias = 0\n",
    "    support = np.where(lmda != 0)[0].tolist()\n",
    "    numSVs = len(support)\n",
    "    if len(support) != 0 :\n",
    "        weight = np.sum(lmda[support][:, None] * a[support] * b[support][:, None],axis=0)\n",
    "        bias  = np.sum(b[support] - np.inner(weight.T,a[support]) )/len(support)\n",
    "        x = np.linspace(0,1,100)\n",
    "        y = (-(weight[0])*x-bias)/weight[1]\n",
    "        plt.plot(x, y, '--r',label = 'Simualted Annealing SVM function')\n",
    "    return weight, bias, numSVs , preprocessing_time , execution_time, support"
   ]
  },
  {
   "cell_type": "markdown",
   "id": "423c4446",
   "metadata": {},
   "source": [
    "- Accuracy Evaluation (score_svm, evalulate_svm)\n",
    "  -- \n",
    "  - These two functions implement a Support Vector Machine (SVM) classifier: the first function computes the SVM scores and predicts the class labels for a set of points based on the given weight and bias, while the second function evaluates the accuracy of the SVM predictions by comparing them to the correct labels.\n",
    "- Classical SVM. (classical)"
   ]
  },
  {
   "cell_type": "code",
   "execution_count": 23,
   "id": "c5aa08d4",
   "metadata": {},
   "outputs": [],
   "source": [
    "def score_svm(weight, bias, points):\n",
    "    num_points = len(points)\n",
    "    scores = np.zeros(num_points)\n",
    "    \n",
    "    for i in range(num_points):\n",
    "        dot_product = np.dot(weight, points[i]) \n",
    "        scores[i] = dot_product + bias \n",
    "        \n",
    "    predictions = np.where(scores > 0, 1, -1)  \n",
    "    return predictions\n",
    "\n",
    "def evaluate_svm(predictions, correct_labels):\n",
    "    num_points = len(predictions)\n",
    "    correct = np.sum(predictions == correct_labels) \n",
    "    accuracy = correct / num_points\n",
    "    return accuracy\n",
    "\n",
    "def go_fast(p,X,y):\n",
    "    N = X.shape[0] \n",
    "    P = np.kron(np.eye(N), p)\n",
    "    A = 0.5 * P.T @ (np.multiply(X@X.T, np.outer(y, y))) @ P\n",
    "    b = - P.T @ np.ones(N)\n",
    "    return A, b"
   ]
  },
  {
   "cell_type": "markdown",
   "id": "c7779ad1",
   "metadata": {},
   "source": [
    "**Call The Functions!**\n",
    "\n",
    "Below call the classical and simulated annealers"
   ]
  },
  {
   "cell_type": "code",
   "execution_count": 32,
   "id": "3d6939fd",
   "metadata": {},
   "outputs": [
    {
     "name": "stdout",
     "output_type": "stream",
     "text": [
      "1.0\n",
      "1.0\n",
      "0.0014592999998512823\n",
      "1.0\n",
      "1.0\n",
      "0.039800000000013824\n",
      "0.020154400000137684\n"
     ]
    },
    {
     "data": {
      "text/plain": [
       "<matplotlib.collections.PathCollection at 0x1e622e26070>"
      ]
     },
     "execution_count": 32,
     "metadata": {},
     "output_type": "execute_result"
    },
    {
     "data": {
      "image/png": "[encoded data removed]",
      "text/plain": [
       "<Figure size 640x480 with 1 Axes>"
      ]
     },
     "metadata": {},
     "output_type": "display_data"
    }
   ],
   "source": [
    "weightCL , biasCL, NumberOfSupportVectorsCL, execution_timeCL, support_vectorsCL,clf = classical(a,b)\n",
    "trainingerrorCL =  evaluate_svm(score_svm(weightCL, biasCL, a), b)\n",
    "testingerrorCL =  evaluate_svm(score_svm(weightCL, biasCL, c), d)\n",
    "print(trainingerrorCL)   \n",
    "print(testingerrorCL)\n",
    "print(execution_timeCL)\n",
    "\n",
    "weightSA , biasSA, NumberOfSupportVectorsSA, preprocessing_timeSA , execution_timeSA , support_vectorsSA= simulated_annealing(a,b) \n",
    "trainingerrorSA =  evaluate_svm(score_svm(weightSA, biasSA, a), b)\n",
    "testingerrorSA =  evaluate_svm(score_svm(weightSA, biasSA, c), d)\n",
    "print(trainingerrorSA)   \n",
    "print(testingerrorSA)\n",
    "print(preprocessing_timeSA)\n",
    "print(execution_timeSA)\n",
    "\n",
    "plt.legend()\n",
    "plt.scatter(a[:, 0], a[:, 1], c=b, s=30, cmap=plt.cm.Paired)"
   ]
  },
  {
   "cell_type": "markdown",
   "id": "7d853540",
   "metadata": {},
   "source": [
    "If you have a D-Wave account with access to an annealer."
   ]
  },
  {
   "cell_type": "code",
   "execution_count": 33,
   "id": "2cffec73",
   "metadata": {},
   "outputs": [
    {
     "name": "stdout",
     "output_type": "stream",
     "text": [
      "1.0\n",
      "1.0\n",
      "0.043767200000047524\n",
      "1.423639299999877\n",
      "1.716617e-05\n"
     ]
    },
    {
     "data": {
      "image/png": "[encoded data removed]",
      "text/plain": [
       "<Figure size 640x480 with 1 Axes>"
      ]
     },
     "metadata": {},
     "output_type": "display_data"
    }
   ],
   "source": [
    "weightDW , biasDW, NumberOfSupportVectorsDW, preprocessing_timeDW, embedding_timeDW , support_vectorsDW ,sampleset,info, timeDW,network_time,qpu_access_time = dwave_annealing(a,b)\n",
    "trainingerrorDW =  evaluate_svm(score_svm(weightDW, biasDW, a), b)\n",
    "testingerrorDW =  evaluate_svm(score_svm(weightDW, biasDW, c), d)\n",
    "plt.legend()\n",
    "plt.scatter(a[:, 0], a[:, 1], c=b, s=30, cmap=plt.cm.Paired)\n",
    "print(trainingerrorDW)   \n",
    "print(testingerrorDW)\n",
    "print(preprocessing_timeDW)\n",
    "print(embedding_timeDW)\n",
    "print(qpu_access_time)"
   ]
  },
  {
   "cell_type": "code",
   "execution_count": null,
   "id": "0a2f66ea",
   "metadata": {},
   "outputs": [],
   "source": []
  }
 ],
 "metadata": {
  "kernelspec": {
   "display_name": "Python 3 (ipykernel)",
   "language": "python",
   "name": "python3"
  },
  "language_info": {
   "codemirror_mode": {
    "name": "ipython",
    "version": 3
   },
   "file_extension": ".py",
   "mimetype": "text/x-python",
   "name": "python",
   "nbconvert_exporter": "python",
   "pygments_lexer": "ipython3",
   "version": "3.9.12"
  }
 },
 "nbformat": 4,
 "nbformat_minor": 5
}
